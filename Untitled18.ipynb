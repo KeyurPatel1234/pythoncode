{
 "cells": [
  {
   "cell_type": "code",
   "execution_count": 16,
   "metadata": {},
   "outputs": [
    {
     "name": "stdout",
     "output_type": "stream",
     "text": [
      "[1, 'hi', 'hello', 3, 4, 5, 5]\n",
      "[1, 'hi', 'hi', 'hello', 3, 4, 5, 5, 'wow', 567, ['hey', 'hi', 'hello'], 'p', 'y', 't', 'h', 'o', 'n']\n"
     ]
    }
   ],
   "source": [
    "x=[1,'hi','hello',3,4,5]\n",
    "x.append(5)\n",
    "print(x)\n",
    "x.insert(2,'hi')\n",
    "x\n",
    "x.append('wow')\n",
    "x\n",
    "x.insert(9,567)\n",
    "x\n",
    "x.append(['hey','hi','hello'])\n",
    "x\n",
    "x.extend('python')\n",
    "print(x)"
   ]
  },
  {
   "cell_type": "code",
   "execution_count": 27,
   "metadata": {},
   "outputs": [
    {
     "name": "stdout",
     "output_type": "stream",
     "text": [
      "[1, 3, 6]\n"
     ]
    }
   ],
   "source": [
    "y=[1,2,3,'hello',6,5,'hi']\n",
    "y.pop()\n",
    "y.pop()\n",
    "y.pop(1)\n",
    "y.pop(2)\n",
    "print(y)"
   ]
  },
  {
   "cell_type": "code",
   "execution_count": 38,
   "metadata": {},
   "outputs": [
    {
     "name": "stdout",
     "output_type": "stream",
     "text": [
      "5.6\n"
     ]
    }
   ],
   "source": [
    "height=[5.11,6,5.10,5.7,6,5.8,5.9,5.6,5.7,5.10]\n",
    "avg_height=sum(height)/len(height)\n",
    "avg_height=round(avg_height,2)\n",
    "print(avg_height)"
   ]
  },
  {
   "cell_type": "code",
   "execution_count": 53,
   "metadata": {},
   "outputs": [
    {
     "name": "stdout",
     "output_type": "stream",
     "text": [
      "19683\n",
      "3072\n",
      "5.5\n"
     ]
    }
   ],
   "source": [
    "a,b,c,d=3,4,5,8\n",
    "print(a**(b+c))#value is multiply by ()this value like a factorial\n",
    "print(a*b**c)  # 5 times 4 is calculated.\n",
    "print(a+b*c/d)"
   ]
  },
  {
   "cell_type": "code",
   "execution_count": 71,
   "metadata": {},
   "outputs": [
    {
     "name": "stdout",
     "output_type": "stream",
     "text": [
      "1\n",
      "2\n",
      "3\n",
      "4\n"
     ]
    }
   ],
   "source": [
    "for var in range(1,5):\n",
    "        print(var)"
   ]
  },
  {
   "cell_type": "code",
   "execution_count": 61,
   "metadata": {},
   "outputs": [
    {
     "data": {
      "text/plain": [
       "'spamspamspam'"
      ]
     },
     "execution_count": 61,
     "metadata": {},
     "output_type": "execute_result"
    }
   ],
   "source": [
    "'spam'+'spamspam'"
   ]
  },
  {
   "cell_type": "code",
   "execution_count": 62,
   "metadata": {},
   "outputs": [
    {
     "data": {
      "text/plain": [
       "'spamspamspamspamspam'"
      ]
     },
     "execution_count": 62,
     "metadata": {},
     "output_type": "execute_result"
    }
   ],
   "source": [
    "'spam'*5"
   ]
  },
  {
   "cell_type": "code",
   "execution_count": 67,
   "metadata": {},
   "outputs": [
    {
     "data": {
      "text/plain": [
       "'i have eaten91burritos'"
      ]
     },
     "execution_count": 67,
     "metadata": {},
     "output_type": "execute_result"
    }
   ],
   "source": [
    "'i have eaten' +  '91'  +'burritos'"
   ]
  },
  {
   "cell_type": "code",
   "execution_count": 76,
   "metadata": {},
   "outputs": [
    {
     "data": {
      "text/plain": [
       "[9,\n",
       " 8,\n",
       " 7,\n",
       " 6,\n",
       " 5,\n",
       " 4,\n",
       " 3,\n",
       " 2,\n",
       " 1,\n",
       " 0,\n",
       " ('anup', 'umesh', 'bhasker'),\n",
       " ['ajay', 'python', 'mohit'],\n",
       " 'ajay',\n",
       " 'ajay',\n",
       " 9,\n",
       " 8,\n",
       " 7,\n",
       " 6,\n",
       " 5,\n",
       " 4,\n",
       " 3,\n",
       " 2,\n",
       " 1]"
      ]
     },
     "execution_count": 76,
     "metadata": {},
     "output_type": "execute_result"
    }
   ],
   "source": [
    "li=[1, 2, 3, 4, 5, 6, 7, 8, 9, 'ajay', 'ajay', ['ajay', 'python', 'mohit'], ('anup', 'umesh', 'bhasker'), 0, 1, 2, 3, 4, 5, 6, 7, 8, 9]\n",
    "li.count('python')\n",
    "li.reverse()\n",
    "li"
   ]
  }
 ],
 "metadata": {
  "kernelspec": {
   "display_name": "Python 3",
   "language": "python",
   "name": "python3"
  },
  "language_info": {
   "codemirror_mode": {
    "name": "ipython",
    "version": 3
   },
   "file_extension": ".py",
   "mimetype": "text/x-python",
   "name": "python",
   "nbconvert_exporter": "python",
   "pygments_lexer": "ipython3",
   "version": "3.6.5"
  }
 },
 "nbformat": 4,
 "nbformat_minor": 2
}
