{
 "cells": [
  {
   "cell_type": "code",
   "execution_count": 1,
   "metadata": {},
   "outputs": [
    {
     "name": "stdout",
     "output_type": "stream",
     "text": [
      "Enter the number of students :3\n",
      "Enter Enrollment number :123\n",
      "Enter First name of the student : pk\n",
      "Enter last name of the student :ck\n",
      "Enter Email ID of the student :vf\n",
      "Enter the contact deatail of the student :999\n",
      "Enter Enrollment number :123\n",
      "Enter First name of the student : 23ed\n",
      "Enter last name of the student :eff\n",
      "Enter Email ID of the student :ref\n",
      "Enter the contact deatail of the student :sdgf\n",
      "Enter Enrollment number :sgs\n",
      "Enter First name of the student : sgs\n",
      "Enter last name of the student :sfgrs\n",
      "Enter Email ID of the student :fdbgdefbg\n",
      "Enter the contact deatail of the student :dfgedgbe\n",
      "{'Last Name': 'sfgrs', 'First Name': 'sgs', 'enrollment number': 'sgs', 'contact No.': 'dfgedgbe', 'Email ID': 'fdbgdefbg'}\n"
     ]
    }
   ],
   "source": [
    "a=raw_input(\"Enter the number of students :\")\n",
    "\n",
    "for i in range(int(a)):\n",
    "    enroll_no=raw_input(\"Enter Enrollment number :\")\n",
    "    fn=raw_input(\"Enter First name of the student : \")\n",
    "    ln=raw_input(\"Enter last name of the student :\")\n",
    "    email=raw_input(\"Enter Email ID of the student :\")\n",
    "    contact=raw_input(\"Enter the contact deatail of the student :\")\n",
    "\n",
    "student={'enrollment number':enroll_no,\n",
    "        'First Name':fn,\n",
    "        'Last Name':ln,\n",
    "        'Email ID':email,\n",
    "        'contact No.':contact} \n",
    "print student"
   ]
  }
 ],
 "metadata": {
  "kernelspec": {
   "display_name": "Python 2",
   "language": "python",
   "name": "python2"
  },
  "language_info": {
   "codemirror_mode": {
    "name": "ipython",
    "version": 2
   },
   "file_extension": ".py",
   "mimetype": "text/x-python",
   "name": "python",
   "nbconvert_exporter": "python",
   "pygments_lexer": "ipython2",
   "version": "2.7.13"
  }
 },
 "nbformat": 4,
 "nbformat_minor": 2
}
