{
 "cells": [
  {
   "cell_type": "code",
   "execution_count": 10,
   "metadata": {},
   "outputs": [],
   "source": [
    "car =\t{\n",
    "  \"brand\": \"Ford\",\n",
    "  \"model\": \"Mustang\",\n",
    "  \"year\": 1964\n",
    "}\n",
    "car[\"color\"]='red'"
   ]
  },
  {
   "cell_type": "code",
   "execution_count": 11,
   "metadata": {},
   "outputs": [
    {
     "data": {
      "text/plain": [
       "{'brand': 'Ford', 'model': 'Mustang', 'year': 1964, 'color': 'red'}"
      ]
     },
     "execution_count": 11,
     "metadata": {},
     "output_type": "execute_result"
    }
   ],
   "source": [
    "car"
   ]
  },
  {
   "cell_type": "code",
   "execution_count": 14,
   "metadata": {},
   "outputs": [
    {
     "name": "stdout",
     "output_type": "stream",
     "text": [
      "1\n",
      "2\n",
      "3\n",
      "4\n",
      "5\n"
     ]
    }
   ],
   "source": [
    "i = 1\n",
    "while i < 6:\n",
    "\n",
    "  print(i)\n",
    "  i += 1"
   ]
  },
  {
   "cell_type": "code",
   "execution_count": 19,
   "metadata": {},
   "outputs": [
    {
     "name": "stdout",
     "output_type": "stream",
     "text": [
      "banana\n"
     ]
    }
   ],
   "source": [
    "fruits = [\"apple\", \"banana\", \"cherry\"]\n",
    "for x in fruits:\n",
    "  if x == \"banana\":\n",
    "    \n",
    "\n",
    "\n",
    "      print(x)"
   ]
  },
  {
   "cell_type": "code",
   "execution_count": 2,
   "metadata": {},
   "outputs": [
    {
     "name": "stdout",
     "output_type": "stream",
     "text": [
      "enter  number 1:  5\n",
      "enter  number 2:  9\n",
      "enter your operator choice%\n",
      "5\n"
     ]
    }
   ],
   "source": [
    "a=int(input(\"enter  number 1:  \"))\n",
    "b=int(input(\"enter  number 2:  \"))\n",
    "c=(input(\"enter your operator choice\"))\n",
    "if c==\"+\":\n",
    "    print(a+b)\n",
    "elif c==\"-\":\n",
    "    print(a-b)\n",
    "elif c==\"*\":\n",
    "    print(a*b)\n",
    "elif c==\"**\":\n",
    "    print(a**b)\n",
    "elif c==\"%\":\n",
    "    print(a%b)\n",
    "elif c==\"//\":\n",
    "    print(a//b)\n",
    "\n"
   ]
  },
  {
   "cell_type": "code",
   "execution_count": 5,
   "metadata": {},
   "outputs": [
    {
     "ename": "SyntaxError",
     "evalue": "invalid syntax (<ipython-input-5-56c3436b4d57>, line 3)",
     "output_type": "error",
     "traceback": [
      "\u001b[1;36m  File \u001b[1;32m\"<ipython-input-5-56c3436b4d57>\"\u001b[1;36m, line \u001b[1;32m3\u001b[0m\n\u001b[1;33m    print(1::5)\u001b[0m\n\u001b[1;37m           ^\u001b[0m\n\u001b[1;31mSyntaxError\u001b[0m\u001b[1;31m:\u001b[0m invalid syntax\n"
     ]
    }
   ],
   "source": [
    "no=int(input(\"enter num:  \"))\n",
    "if no==1:\n",
    "    \n",
    "    print(\"january\") \n",
    "elif no==2:\n",
    "    print(\"feb\")\n",
    "elif no==3:\n",
    "    print(\"march\")\n",
    "elif no==4:\n",
    "    print(\"april\")\n",
    "elif no==5:\n",
    "    print(\"may\")\n",
    "elif no==6:\n",
    "    print(\"jun\")\n",
    "elif no==7:\n",
    "    print(\"july\")\n",
    "elif no==8:\n",
    "    print(\"ougust\")\n",
    "elif no==9:\n",
    "    print(\"sup\")\n",
    "elif no==10:\n",
    "    print(\"oct\")\n",
    "elif no==11:\n",
    "    print(\"no\")\n",
    "elif no==12:\n",
    "    print(\"dec\")"
   ]
  }
 ],
 "metadata": {
  "kernelspec": {
   "display_name": "Python 3",
   "language": "python",
   "name": "python3"
  },
  "language_info": {
   "codemirror_mode": {
    "name": "ipython",
    "version": 3
   },
   "file_extension": ".py",
   "mimetype": "text/x-python",
   "name": "python",
   "nbconvert_exporter": "python",
   "pygments_lexer": "ipython3",
   "version": "3.6.5"
  }
 },
 "nbformat": 4,
 "nbformat_minor": 2
}
