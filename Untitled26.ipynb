{
 "cells": [
  {
   "cell_type": "code",
   "execution_count": 25,
   "metadata": {},
   "outputs": [
    {
     "name": "stdout",
     "output_type": "stream",
     "text": [
      "enter the month number:9\n",
      "before month..... ['jan', 'feb', 'mar', 'april', 'may', 'jun', 'july', 'ouguct']\n",
      "your month....... sup\n",
      "after month...... ['octom', 'nov', 'decem']\n"
     ]
    }
   ],
   "source": [
    "mon=['jan','feb','mar','april','may','jun','july','ouguct','sup','octom','nov','decem']\n",
    "\n",
    "n=int(input(\"enter the month number:\"))\n",
    "if n >=1 and n <=12:\n",
    "    print(\"before month.....\",mon[:n-1])\n",
    "    print(\"your month.......\",mon[n-1])\n",
    "    print(\"after month......\",mon[n:])\n",
    "else:\n",
    "    print(\"enter valid no\")"
   ]
  },
  {
   "cell_type": "code",
   "execution_count": 26,
   "metadata": {},
   "outputs": [],
   "source": [
    "from getpass import getpass\n"
   ]
  },
  {
   "cell_type": "code",
   "execution_count": 28,
   "metadata": {},
   "outputs": [
    {
     "name": "stdout",
     "output_type": "stream",
     "text": [
      "········\n"
     ]
    }
   ],
   "source": [
    "ch=getpass()\n"
   ]
  },
  {
   "cell_type": "code",
   "execution_count": null,
   "metadata": {},
   "outputs": [],
   "source": [
    "player1['paper','sissor','rock']\n",
    "player2['rock','paper','sissor']\n",
    "n=int(input(\"enter player input\"))\n",
    "m=int(input(\"enter\"))"
   ]
  }
 ],
 "metadata": {
  "kernelspec": {
   "display_name": "Python 3",
   "language": "python",
   "name": "python3"
  },
  "language_info": {
   "codemirror_mode": {
    "name": "ipython",
    "version": 3
   },
   "file_extension": ".py",
   "mimetype": "text/x-python",
   "name": "python",
   "nbconvert_exporter": "python",
   "pygments_lexer": "ipython3",
   "version": "3.6.5"
  }
 },
 "nbformat": 4,
 "nbformat_minor": 2
}
