{
 "cells": [
  {
   "cell_type": "code",
   "execution_count": 2,
   "metadata": {},
   "outputs": [
    {
     "name": "stdout",
     "output_type": "stream",
     "text": [
      "<class 'list'>\n",
      "['keyur', 'bharat', 'akshay']\n"
     ]
    }
   ],
   "source": [
    "a=['keyur','bharat','akshay']\n",
    "print(type(a))\n",
    "print(a)"
   ]
  },
  {
   "cell_type": "code",
   "execution_count": 6,
   "metadata": {},
   "outputs": [
    {
     "name": "stdout",
     "output_type": "stream",
     "text": [
      "[1, 2, 3, 4, 5, 6, 7, 8, 9]\n",
      "['keyur', 'akshay', 'bharat']\n",
      "<class 'list'>\n",
      "<class 'list'>\n"
     ]
    }
   ],
   "source": [
    "a=[1,2,3,4,5,6,7,8,9]\n",
    "b=['keyur','akshay','bharat']\n",
    "print(a,b,sep='\\n')\n",
    "print(type(a))\n",
    "print(type(b))"
   ]
  },
  {
   "cell_type": "code",
   "execution_count": 14,
   "metadata": {},
   "outputs": [
    {
     "name": "stdout",
     "output_type": "stream",
     "text": [
      "[((((1, 'keyur'), 'keyur'), 'keyur'), 'keyur'), ((((2, 'akshay'), 'akshay'), 'akshay'), 'akshay'), ((((3, 'bharat'), 'bharat'), 'bharat'), 'bharat')]\n"
     ]
    }
   ],
   "source": [
    "x=list(zip(a,b))\n",
    "print(x)"
   ]
  },
  {
   "cell_type": "code",
   "execution_count": 20,
   "metadata": {},
   "outputs": [
    {
     "name": "stdout",
     "output_type": "stream",
     "text": [
      "ajay python\n",
      "sachin kaushal\n",
      "rajesh grass\n",
      "raja nidhi\n"
     ]
    }
   ],
   "source": [
    "l=[['ajay','python'],['sachin','kaushal'],['rajesh','grass'],['raja','nidhi']]\n",
    "for v,v1 in l:\n",
    "    print(v,v1)"
   ]
  },
  {
   "cell_type": "code",
   "execution_count": 23,
   "metadata": {},
   "outputs": [
    {
     "name": "stdout",
     "output_type": "stream",
     "text": [
      "rajaakshaykeyurbharat\n"
     ]
    }
   ],
   "source": [
    "l=['bharat','akshay','keyur','raja']\n",
    "print(l[-1]+l[1]+l[-2]+l[0])"
   ]
  },
  {
   "cell_type": "code",
   "execution_count": 24,
   "metadata": {},
   "outputs": [
    {
     "name": "stdout",
     "output_type": "stream",
     "text": [
      "[40, 63, 10, 85]\n"
     ]
    }
   ],
   "source": [
    "l=[40,63,10,85]\n",
    "print(l)"
   ]
  },
  {
   "cell_type": "code",
   "execution_count": 25,
   "metadata": {},
   "outputs": [
    {
     "name": "stdout",
     "output_type": "stream",
     "text": [
      "70 hellopython ajay\n"
     ]
    }
   ],
   "source": [
    "k=[1,2,'hello','python',67,'ajay']\n",
    "print(k[-2]+k[1]+k[0],k[2]+k[3],k[-1])"
   ]
  }
 ],
 "metadata": {
  "kernelspec": {
   "display_name": "Python 3",
   "language": "python",
   "name": "python3"
  },
  "language_info": {
   "codemirror_mode": {
    "name": "ipython",
    "version": 3
   },
   "file_extension": ".py",
   "mimetype": "text/x-python",
   "name": "python",
   "nbconvert_exporter": "python",
   "pygments_lexer": "ipython3",
   "version": "3.6.5"
  }
 },
 "nbformat": 4,
 "nbformat_minor": 2
}
