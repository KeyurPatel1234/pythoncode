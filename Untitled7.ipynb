{
 "cells": [
  {
   "cell_type": "code",
   "execution_count": null,
   "metadata": {
    "collapsed": true
   },
   "outputs": [],
   "source": [
    "\n"
   ]
  },
  {
   "cell_type": "code",
   "execution_count": 1,
   "metadata": {},
   "outputs": [
    {
     "name": "stdout",
     "output_type": "stream",
     "text": [
      "Enter the number of semester :2\n",
      "semester1\n",
      "Enter the number of subjects in semester :2\n",
      "sub marks :23\n",
      "sub marks :23\n",
      "semester2\n",
      "Enter the number of subjects in semester :3\n",
      "sub marks :5\n",
      "sub marks :5\n",
      "sub marks :5\n",
      "{'semester': '2', 'subject': '5'}\n"
     ]
    }
   ],
   "source": [
    "b=raw_input(\"Enter the number of semester :\")\n",
    "\n",
    "for j in range(int(b)):\n",
    "    sem=raw_input(\"semester\")\n",
    "    \n",
    "    c=raw_input(\"Enter the number of subjects in semester :\")\n",
    "    for k in range(int(c)):\n",
    "        sub=raw_input(\"sub marks :\")\n",
    "        \n",
    "student={'semester':sem,\n",
    "        'subject':sub}\n",
    "print student\n"
   ]
  },
  {
   "cell_type": "code",
   "execution_count": null,
   "metadata": {
    "collapsed": true
   },
   "outputs": [],
   "source": []
  }
 ],
 "metadata": {
  "kernelspec": {
   "display_name": "Python 2",
   "language": "python",
   "name": "python2"
  },
  "language_info": {
   "codemirror_mode": {
    "name": "ipython",
    "version": 2
   },
   "file_extension": ".py",
   "mimetype": "text/x-python",
   "name": "python",
   "nbconvert_exporter": "python",
   "pygments_lexer": "ipython2",
   "version": "2.7.13"
  }
 },
 "nbformat": 4,
 "nbformat_minor": 2
}
