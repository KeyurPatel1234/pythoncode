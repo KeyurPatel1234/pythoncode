{
 "cells": [
  {
   "cell_type": "code",
   "execution_count": 1,
   "metadata": {},
   "outputs": [
    {
     "name": "stdout",
     "output_type": "stream",
     "text": [
      "6\n",
      "9\n",
      "14\n",
      "do u get it????????????\n"
     ]
    }
   ],
   "source": [
    "c=1\n",
    "while c <=10:\n",
    "    c+=2\n",
    "    if c%2:\n",
    "        c+=3\n",
    "    else:\n",
    "        c+=1\n",
    "    print(c)\n",
    "else:\n",
    "    print('do u get it????????????')"
   ]
  },
  {
   "cell_type": "code",
   "execution_count": 2,
   "metadata": {},
   "outputs": [
    {
     "name": "stdout",
     "output_type": "stream",
     "text": [
      "1\n",
      "5\n",
      "5\n",
      "8\n",
      "8\n",
      "11\n",
      "do u get it????????????\n"
     ]
    }
   ],
   "source": [
    "c=1\n",
    "while c <=10:\n",
    "    print(c)\n",
    "    c+=2\n",
    "    if c%3==0:\n",
    "        c+=2\n",
    "    else:\n",
    "        c+=1\n",
    "    print(c)\n",
    "else:\n",
    "    print('do u get it????????????')"
   ]
  },
  {
   "cell_type": "code",
   "execution_count": 3,
   "metadata": {},
   "outputs": [
    {
     "name": "stdout",
     "output_type": "stream",
     "text": [
      "1\n",
      "3\n",
      "3\n",
      "12\n",
      "do u get it????????????\n"
     ]
    }
   ],
   "source": [
    "c=1\n",
    "while c <=10:\n",
    "    print(c)\n",
    "    c+=4\n",
    "    if c%5==0:\n",
    "        c-=2\n",
    "    else:\n",
    "        c+=5\n",
    "    print(c)\n",
    "else:\n",
    "    print('do u get it????????????')"
   ]
  },
  {
   "cell_type": "code",
   "execution_count": null,
   "metadata": {},
   "outputs": [],
   "source": []
  }
 ],
 "metadata": {
  "kernelspec": {
   "display_name": "Python 3",
   "language": "python",
   "name": "python3"
  },
  "language_info": {
   "codemirror_mode": {
    "name": "ipython",
    "version": 3
   },
   "file_extension": ".py",
   "mimetype": "text/x-python",
   "name": "python",
   "nbconvert_exporter": "python",
   "pygments_lexer": "ipython3",
   "version": "3.6.5"
  }
 },
 "nbformat": 4,
 "nbformat_minor": 2
}
