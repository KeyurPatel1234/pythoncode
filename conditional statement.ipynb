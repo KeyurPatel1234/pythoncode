{
 "cells": [
  {
   "cell_type": "code",
   "execution_count": 26,
   "metadata": {},
   "outputs": [
    {
     "name": "stdout",
     "output_type": "stream",
     "text": [
      "enter no of a:25\n",
      "enter no of b:96\n",
      "enter no of c:721\n",
      "c is max\n"
     ]
    }
   ],
   "source": [
    "a=int(input(\"enter no of a:\"))\n",
    "b=int(input(\"enter no of b:\"))\n",
    "c=int(input(\"enter no of c:\"))\n",
    "if a>=b and  a>=c:\n",
    "        print(\"a is max\")\n",
    "    \n",
    "elif b>=c:\n",
    "    print(\"b is max\")\n",
    "else:\n",
    "    print(\"c is max\")\n",
    "\n",
    "        \n"
   ]
  },
  {
   "cell_type": "code",
   "execution_count": null,
   "metadata": {},
   "outputs": [],
   "source": [
    "age=int(input(\"enter your age:\"))\n",
    "if age>18:\n",
    "      print(\"1----------goverement sector\")\n",
    "    print(\"2----------private sector\")\n",
    "    h=int(input(\"enter your choice\"))\n",
    "if ch==1:\n",
    "    print(\"you have to high chance to take loan\")\n",
    "elif:\n",
    "    print(\"you have to low chance to take loan\")\n",
    "else:\n",
    "\n",
    "    \n",
    "    print(\"you have to greater than 18\")\n",
    "\n",
    "   \n",
    "\n",
    "    "
   ]
  },
  {
   "cell_type": "code",
   "execution_count": null,
   "metadata": {},
   "outputs": [],
   "source": []
  }
 ],
 "metadata": {
  "kernelspec": {
   "display_name": "Python 3",
   "language": "python",
   "name": "python3"
  },
  "language_info": {
   "codemirror_mode": {
    "name": "ipython",
    "version": 3
   },
   "file_extension": ".py",
   "mimetype": "text/x-python",
   "name": "python",
   "nbconvert_exporter": "python",
   "pygments_lexer": "ipython3",
   "version": "3.6.5"
  }
 },
 "nbformat": 4,
 "nbformat_minor": 2
}
