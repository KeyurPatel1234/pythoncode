{
 "cells": [
  {
   "cell_type": "code",
   "execution_count": 2,
   "metadata": {},
   "outputs": [],
   "source": [
    "import random\n"
   ]
  },
  {
   "cell_type": "code",
   "execution_count": 3,
   "metadata": {},
   "outputs": [
    {
     "name": "stdout",
     "output_type": "stream",
     "text": [
      "41\n",
      "enter your num: 56\n",
      "num is less\n",
      "enter your num: 56\n",
      "num is less\n",
      "enter your num: 23\n",
      "num is big\n",
      "enter your num: 56\n",
      "num is less\n",
      "enter your num: 78\n",
      "num is less\n",
      "enter your num: 12\n",
      "num is big\n"
     ]
    }
   ],
   "source": [
    "c=comgass=random.randint(1,50) \n",
    "print(comgass)\n",
    "count=0\n",
    "while count<=5:\n",
    "    a=int(input(\"enter your num: \"))\n",
    "    count=count+1\n",
    "    if a==c:\n",
    "        print(\"u r winner\")\n",
    "        break\n",
    "    elif a<c:\n",
    "        print(\"num is big\")\n",
    "    elif a>c:\n",
    "        print(\"num is less\")\n",
    "    elif count==5:\n",
    "        print(\"u r looser\")\n",
    "    \n",
    "    \n"
   ]
  },
  {
   "cell_type": "code",
   "execution_count": 13,
   "metadata": {},
   "outputs": [
    {
     "name": "stdout",
     "output_type": "stream",
     "text": [
      "enter num 5\n",
      "enter othr num\n"
     ]
    }
   ],
   "source": [
    "a=[1,2,3,6,7]\n",
    "b=int(input(\"enter num \"))\n",
    "while b in a:\n",
    "    print(\"num in list\",b)\n",
    "    break\n",
    "else:\n",
    "    print(\"enter othr num\")"
   ]
  },
  {
   "cell_type": "code",
   "execution_count": 29,
   "metadata": {},
   "outputs": [
    {
     "name": "stdout",
     "output_type": "stream",
     "text": [
      "enter num6\n",
      "6 * 1 = 6\n",
      "6 * 2 = 12\n",
      "6 * 3 = 18\n",
      "6 * 4 = 24\n",
      "6 * 5 = 30\n",
      "6 * 6 = 36\n",
      "6 * 7 = 42\n",
      "6 * 8 = 48\n",
      "6 * 9 = 54\n"
     ]
    }
   ],
   "source": [
    "a=int(input(\"enter num\"))\n",
    "\n",
    "for b in range(1,10):\n",
    "    print(a,\"*\",b,'=',a*b)\n",
    "    \n",
    "    "
   ]
  },
  {
   "cell_type": "code",
   "execution_count": 30,
   "metadata": {},
   "outputs": [
    {
     "name": "stdout",
     "output_type": "stream",
     "text": [
      "5\n",
      "10\n",
      "15\n",
      "20\n",
      "25\n",
      "30\n",
      "35\n",
      "40\n",
      "45\n",
      "50\n"
     ]
    }
   ],
   "source": [
    "for var in range(5,51,5):\n",
    "    print(var)\n"
   ]
  },
  {
   "cell_type": "code",
   "execution_count": 38,
   "metadata": {},
   "outputs": [
    {
     "name": "stdout",
     "output_type": "stream",
     "text": [
      "enter num3\n",
      "3 * 1 = 3\n",
      "3 * 2 = 6\n",
      "3 * 3 = 9\n",
      "3 * 4 = 12\n",
      "3 * 5 = 15\n",
      "3 * 6 = 18\n",
      "3 * 7 = 21\n",
      "3 * 8 = 24\n",
      "3 * 9 = 27\n",
      "3 * 10 = 30\n"
     ]
    }
   ],
   "source": [
    "a=int(input(\"enter num\"))\n",
    "b=1\n",
    "while b<11:\n",
    "      print(a,'*',b,'=',a*b)\n",
    "      b+=1"
   ]
  },
  {
   "cell_type": "code",
   "execution_count": null,
   "metadata": {},
   "outputs": [],
   "source": []
  }
 ],
 "metadata": {
  "kernelspec": {
   "display_name": "Python 3",
   "language": "python",
   "name": "python3"
  },
  "language_info": {
   "codemirror_mode": {
    "name": "ipython",
    "version": 3
   },
   "file_extension": ".py",
   "mimetype": "text/x-python",
   "name": "python",
   "nbconvert_exporter": "python",
   "pygments_lexer": "ipython3",
   "version": "3.6.5"
  }
 },
 "nbformat": 4,
 "nbformat_minor": 2
}
