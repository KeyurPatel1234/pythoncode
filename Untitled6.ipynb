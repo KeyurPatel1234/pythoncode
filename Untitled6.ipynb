{
 "cells": [
  {
   "cell_type": "code",
   "execution_count": null,
   "metadata": {},
   "outputs": [],
   "source": [
    "a=raw_input(\"Enter the number of students :\")\n",
    "student=[]\n",
    "for i in range(int(a)):\n",
    "    enroll_no=raw_input(\"Enter Enrollment number :\")\n",
    "    fn=raw_input(\"Enter First name of the student : \")\n",
    "    ln=raw_input(\"Enter last name of the student :\")\n",
    "    email=raw_input(\"Enter Email ID of the student :\")\n",
    "    contact=raw_input(\"Enter the contact deatail of the student :\")\n",
    "    student['enrollment number']='enroll_no'\n",
    "    student['First Name']='fn'\n",
    "    student['Last Name']='ln'\n",
    "    student['Email ID']='email'\n",
    "    student['contact No.']='contact'\n",
    "    \n",
    "    student[]\n",
    "    "
   ]
  },
  {
   "cell_type": "code",
   "execution_count": null,
   "metadata": {
    "collapsed": true
   },
   "outputs": [],
   "source": []
  }
 ],
 "metadata": {
  "kernelspec": {
   "display_name": "Python 2",
   "language": "python",
   "name": "python2"
  },
  "language_info": {
   "codemirror_mode": {
    "name": "ipython",
    "version": 2
   },
   "file_extension": ".py",
   "mimetype": "text/x-python",
   "name": "python",
   "nbconvert_exporter": "python",
   "pygments_lexer": "ipython2",
   "version": "2.7.13"
  }
 },
 "nbformat": 4,
 "nbformat_minor": 2
}
