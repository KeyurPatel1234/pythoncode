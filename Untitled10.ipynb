{
 "cells": [
  {
   "cell_type": "code",
   "execution_count": 1,
   "metadata": {},
   "outputs": [
    {
     "name": "stdout",
     "output_type": "stream",
     "text": [
      "Enter the number of students :2\n",
      "Enter Enrollment number :1\n",
      "Enter First name of the student : pk\n",
      "Enter last name of the student :ck\n",
      "Enter Email ID of the student :dtyd\n",
      "Enter the contact deatail of the student :2\n",
      "Enter Enrollment number :2\n",
      "Enter First name of the student : fedfs\n",
      "Enter last name of the student :efs\n",
      "Enter Email ID of the student :segsw\n",
      "Enter the contact deatail of the student :rge\n",
      "{'Last Name': 'efs', 'First Name': 'fedfs', 'enrollment number': '2', 'contact No.': 'rge', 'Email ID': 'segsw'}\n"
     ]
    }
   ],
   "source": [
    "a=raw_input(\"Enter the number of students :\")\n",
    "\n",
    "for i in range(int(a)):\n",
    "    enroll_no=raw_input(\"Enter Enrollment number :\")\n",
    "    fn=raw_input(\"Enter First name of the student : \")\n",
    "    ln=raw_input(\"Enter last name of the student :\")\n",
    "    email=raw_input(\"Enter Email ID of the student :\")\n",
    "    contact=raw_input(\"Enter the contact deatail of the student :\")\n",
    "\n",
    "student={'enrollment number':enroll_no,\n",
    "        'First Name':fn,\n",
    "        'Last Name':ln,\n",
    "        'Email ID':email,\n",
    "        'contact No.':contact} \n",
    "print student"
   ]
  }
 ],
 "metadata": {
  "kernelspec": {
   "display_name": "Python 2",
   "language": "python",
   "name": "python2"
  },
  "language_info": {
   "codemirror_mode": {
    "name": "ipython",
    "version": 2
   },
   "file_extension": ".py",
   "mimetype": "text/x-python",
   "name": "python",
   "nbconvert_exporter": "python",
   "pygments_lexer": "ipython2",
   "version": "2.7.13"
  }
 },
 "nbformat": 4,
 "nbformat_minor": 2
}
