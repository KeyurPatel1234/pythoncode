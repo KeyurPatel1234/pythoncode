{
 "cells": [
  {
   "cell_type": "code",
   "execution_count": 77,
   "metadata": {},
   "outputs": [
    {
     "name": "stdout",
     "output_type": "stream",
     "text": [
      "Names = [0]keyur\n",
      "Names = [1]mayur\n",
      "Names = [2]raj\n",
      "Names = [3]h\n",
      "Names = [4]h\n",
      "Names = [5]j\n",
      "Names = [6]k\n",
      "Names = [7]g\n",
      "Names = [8]f\n",
      "Names = [9]j\n",
      "Names = [10]k\n",
      "Names = [11]t\n"
     ]
    }
   ],
   "source": [
    "name=  [input('Names = [{}]'.format(counter)) for counter in range(12)]"
   ]
  },
  {
   "cell_type": "code",
   "execution_count": 78,
   "metadata": {},
   "outputs": [
    {
     "name": "stdout",
     "output_type": "stream",
     "text": [
      "['keyur', 'mayur', 'raj', 'h', 'h', 'j', 'k', 'g', 'f', 'j', 'k', 't']\n"
     ]
    }
   ],
   "source": [
    "print(name)"
   ]
  }
 ],
 "metadata": {
  "kernelspec": {
   "display_name": "Python 3",
   "language": "python",
   "name": "python3"
  },
  "language_info": {
   "codemirror_mode": {
    "name": "ipython",
    "version": 3
   },
   "file_extension": ".py",
   "mimetype": "text/x-python",
   "name": "python",
   "nbconvert_exporter": "python",
   "pygments_lexer": "ipython3",
   "version": "3.6.5"
  }
 },
 "nbformat": 4,
 "nbformat_minor": 2
}
